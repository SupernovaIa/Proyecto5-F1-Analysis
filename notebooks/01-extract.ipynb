{
 "cells": [
  {
   "cell_type": "code",
   "execution_count": 1,
   "metadata": {},
   "outputs": [],
   "source": [
    "from selenium.webdriver.support.ui import WebDriverWait\n",
    "from selenium.webdriver.common.by import By\n",
    "from selenium.webdriver.support import expected_conditions as EC\n",
    "from selenium.webdriver.common.keys import Keys\n",
    "\n",
    "from time import sleep\n",
    "import random\n",
    "# Selenium para establecer la configuración del driver\n",
    "# -----------------------------------------------------------------------\n",
    "from selenium import webdriver\n",
    "\n",
    "# Para generar una barra de proceso en los bucles for\n",
    "# -----------------------------------------------------------------------\n",
    "from tqdm import tqdm\n",
    "\n",
    "# Para trabajar con ficheros\n",
    "# -----------------------------------------------------------------------\n",
    "import os\n",
    "\n",
    "import re\n",
    "\n",
    "import zipfile\n",
    "import shutil\n",
    "\n",
    "import requests\n",
    "import pandas as pd\n",
    "\n",
    "import json\n",
    "\n",
    "from bs4 import BeautifulSoup\n",
    "\n",
    "# ---------------------------------------\n",
    "# Path\n",
    "import sys\n",
    "sys.path.append('../')\n",
    "\n",
    "import warnings\n",
    "#warnings.filterwarnings('ignore')\n",
    "\n",
    "from src.support import get_dotd, get_df_dotd, get_add_circuit_info"
   ]
  },
  {
   "cell_type": "markdown",
   "metadata": {},
   "source": [
    "### Driver of the day"
   ]
  },
  {
   "cell_type": "code",
   "execution_count": 2,
   "metadata": {},
   "outputs": [],
   "source": [
    "try:\n",
    "    df_dotd = pd.read_csv('../data/dotd.csv')\n",
    "except FileNotFoundError:\n",
    "    soup = get_dotd()\n",
    "    df_dotd = get_df_dotd(soup)\n",
    "    df_dotd.to_csv('../data/dotd.csv', index = False)"
   ]
  },
  {
   "cell_type": "markdown",
   "metadata": {},
   "source": [
    "### Circuits"
   ]
  },
  {
   "cell_type": "code",
   "execution_count": 3,
   "metadata": {},
   "outputs": [
    {
     "name": "stdout",
     "output_type": "stream",
     "text": [
      "200\n"
     ]
    }
   ],
   "source": [
    "url = 'http://ergast.com/api/f1/2023/circuits.json'\n",
    "\n",
    "response = requests.get(url)\n",
    "\n",
    "print(response.status_code)\n",
    "\n",
    "cont = response.json()"
   ]
  },
  {
   "cell_type": "code",
   "execution_count": 4,
   "metadata": {},
   "outputs": [],
   "source": [
    "circuits = cont['MRData']['CircuitTable']['Circuits']"
   ]
  },
  {
   "cell_type": "code",
   "execution_count": 5,
   "metadata": {},
   "outputs": [],
   "source": [
    "df_circ = pd.DataFrame(circuits)"
   ]
  },
  {
   "cell_type": "code",
   "execution_count": 6,
   "metadata": {},
   "outputs": [
    {
     "name": "stdout",
     "output_type": "stream",
     "text": [
      "200\n"
     ]
    }
   ],
   "source": [
    "# URL (no api)\n",
    "url_circ = 'https://en.wikipedia.org/wiki/Circuit_of_the_Americas'\n",
    "#url_circ = 'https://en.wikipedia.org/wiki/Albert_Park_Circuit'\n",
    "\n",
    "res_circ = requests.get(url_circ)\n",
    "# Comprobamos que obtenemos un 200\n",
    "print(res_circ.status_code)\n",
    "\n",
    "soup = BeautifulSoup(res_circ.content, 'html.parser')"
   ]
  },
  {
   "cell_type": "code",
   "execution_count": 7,
   "metadata": {},
   "outputs": [],
   "source": [
    "a = get_add_circuit_info('https://en.wikipedia.org/wiki/Las_Vegas_Grand_Prix#Circuit')"
   ]
  },
  {
   "cell_type": "code",
   "execution_count": 8,
   "metadata": {},
   "outputs": [
    {
     "data": {
      "text/plain": [
       "('100,000', 'NA', 'Carsten Tilke')"
      ]
     },
     "execution_count": 8,
     "metadata": {},
     "output_type": "execute_result"
    }
   ],
   "source": [
    "a"
   ]
  },
  {
   "cell_type": "code",
   "execution_count": null,
   "metadata": {},
   "outputs": [],
   "source": []
  }
 ],
 "metadata": {
  "kernelspec": {
   "display_name": "proyecto5",
   "language": "python",
   "name": "python3"
  },
  "language_info": {
   "codemirror_mode": {
    "name": "ipython",
    "version": 3
   },
   "file_extension": ".py",
   "mimetype": "text/x-python",
   "name": "python",
   "nbconvert_exporter": "python",
   "pygments_lexer": "ipython3",
   "version": "3.12.7"
  }
 },
 "nbformat": 4,
 "nbformat_minor": 2
}
