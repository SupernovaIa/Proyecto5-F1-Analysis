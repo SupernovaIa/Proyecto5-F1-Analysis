{
 "cells": [
  {
   "cell_type": "code",
   "execution_count": null,
   "metadata": {},
   "outputs": [],
   "source": [
    "# Working with Dataframes\n",
    "# -----------------------------------------------------------------------\n",
    "import pandas as pd\n",
    "\n",
    "# Path configuration for custom module imports\n",
    "# -----------------------------------------------------------------------\n",
    "import sys\n",
    "sys.path.append('../')  # Adds the parent directory to the path for custom module imports\n",
    "\n",
    "# Import custom functions to extract data\n",
    "# -----------------------------------------------------------------------\n",
    "from src.support_extraction import get_dotd, get_df_dotd, get_df_circuit, get_df_drivers, get_df_constructors, get_df_races_results\n"
   ]
  },
  {
   "cell_type": "markdown",
   "metadata": {},
   "source": [
    "### Driver of the day (2023)"
   ]
  },
  {
   "cell_type": "code",
   "execution_count": 9,
   "metadata": {},
   "outputs": [],
   "source": [
    "try:\n",
    "    df_dotd = pd.read_csv('../data/dotd.csv')\n",
    "except FileNotFoundError:\n",
    "    soup = get_dotd()\n",
    "    df_dotd = get_df_dotd(soup)\n",
    "    df_dotd.to_csv('../data/dotd.csv', index = False)"
   ]
  },
  {
   "cell_type": "markdown",
   "metadata": {},
   "source": [
    "### Circuits (2023)"
   ]
  },
  {
   "cell_type": "code",
   "execution_count": 10,
   "metadata": {},
   "outputs": [],
   "source": [
    "try:\n",
    "    df_circuit = pd.read_csv('../data/circuit.csv')\n",
    "except FileNotFoundError:\n",
    "    df_circuit = get_df_circuit(2023)\n",
    "    df_circuit.to_csv('../data/circuit.csv', index = False)"
   ]
  },
  {
   "cell_type": "markdown",
   "metadata": {},
   "source": [
    "### Drivers (2023)"
   ]
  },
  {
   "cell_type": "code",
   "execution_count": 11,
   "metadata": {},
   "outputs": [],
   "source": [
    "try:\n",
    "    df_drivers = pd.read_csv('../data/drivers.csv')\n",
    "except FileNotFoundError:\n",
    "    df_drivers = get_df_drivers(2023)\n",
    "    df_drivers.to_csv('../data/drivers.csv', index = False)"
   ]
  },
  {
   "cell_type": "markdown",
   "metadata": {},
   "source": [
    "### Constructors (2023)"
   ]
  },
  {
   "cell_type": "code",
   "execution_count": 12,
   "metadata": {},
   "outputs": [],
   "source": [
    "try:\n",
    "    df_constructors = pd.read_csv('../data/constructors.csv')\n",
    "except FileNotFoundError:\n",
    "    df_constructors = get_df_constructors(2023)\n",
    "    df_constructors.to_csv('../data/constructors.csv', index = False)"
   ]
  },
  {
   "cell_type": "markdown",
   "metadata": {},
   "source": [
    "### Races & Results (2023)"
   ]
  },
  {
   "cell_type": "code",
   "execution_count": 13,
   "metadata": {},
   "outputs": [],
   "source": [
    "try:\n",
    "    df_results = pd.read_csv('../data/results.csv')\n",
    "    df_races = pd.read_csv('../data/races.csv')\n",
    "except FileNotFoundError:\n",
    "    df_results, df_races = get_df_races_results(2023)\n",
    "    # Add driver of the day\n",
    "    df_races = df_races.merge(df_dotd[['driver', 'race_id']], left_on='race_id', right_on='race_id')\n",
    "    # Save to csv\n",
    "    df_results.to_csv('../data/results.csv', index = False)\n",
    "    df_races.to_csv('../data/races.csv', index = False)"
   ]
  }
 ],
 "metadata": {
  "kernelspec": {
   "display_name": "proyecto5",
   "language": "python",
   "name": "python3"
  },
  "language_info": {
   "codemirror_mode": {
    "name": "ipython",
    "version": 3
   },
   "file_extension": ".py",
   "mimetype": "text/x-python",
   "name": "python",
   "nbconvert_exporter": "python",
   "pygments_lexer": "ipython3",
   "version": "3.12.7"
  }
 },
 "nbformat": 4,
 "nbformat_minor": 2
}
