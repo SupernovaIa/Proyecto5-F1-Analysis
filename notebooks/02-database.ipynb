{
 "cells": [
  {
   "cell_type": "code",
   "execution_count": null,
   "metadata": {},
   "outputs": [],
   "source": [
    "# Working with Dataframes\n",
    "# -----------------------------------------------------------------------\n",
    "import pandas as pd\n",
    "\n",
    "# Path configuration for custom module imports\n",
    "# -----------------------------------------------------------------------\n",
    "import sys\n",
    "sys.path.append('../')  # Adds the parent directory to the path for custom module imports\n",
    "\n",
    "# Import custom functions to work with databases\n",
    "# -----------------------------------------------------------------------\n",
    "from src.support_db import create_db, table_creation, data_insertion\n",
    "from src.support_queries import queries_creation, queries_insertion"
   ]
  },
  {
   "cell_type": "markdown",
   "metadata": {},
   "source": [
    "### Loading data"
   ]
  },
  {
   "cell_type": "code",
   "execution_count": 14,
   "metadata": {},
   "outputs": [],
   "source": [
    "df_circuit = pd.read_csv('../data/circuit.csv')\n",
    "df_drivers = pd.read_csv('../data/drivers.csv')\n",
    "df_constructors = pd.read_csv('../data/constructors.csv')\n",
    "df_results = pd.read_csv('../data/results.csv')\n",
    "df_races = pd.read_csv('../data/races.csv')"
   ]
  },
  {
   "cell_type": "markdown",
   "metadata": {},
   "source": [
    "### Database creation"
   ]
  },
  {
   "cell_type": "code",
   "execution_count": 4,
   "metadata": {},
   "outputs": [
    {
     "name": "stdout",
     "output_type": "stream",
     "text": [
      "The database already exists.\n",
      "Database connection closed.\n"
     ]
    }
   ],
   "source": [
    "create_db('formula_one')"
   ]
  },
  {
   "cell_type": "markdown",
   "metadata": {},
   "source": [
    "### Tables creation"
   ]
  },
  {
   "cell_type": "code",
   "execution_count": 5,
   "metadata": {},
   "outputs": [
    {
     "name": "stdout",
     "output_type": "stream",
     "text": [
      "Tables created successfully.\n",
      "Database connection closed.\n"
     ]
    }
   ],
   "source": [
    "table_creation(queries_creation)"
   ]
  },
  {
   "cell_type": "markdown",
   "metadata": {},
   "source": [
    "### Data insertion"
   ]
  },
  {
   "cell_type": "code",
   "execution_count": 15,
   "metadata": {},
   "outputs": [
    {
     "name": "stdout",
     "output_type": "stream",
     "text": [
      "Data inserted successfully.\n",
      "Database connection closed.\n",
      "Data inserted successfully.\n",
      "Database connection closed.\n",
      "Data inserted successfully.\n",
      "Database connection closed.\n",
      "Data inserted successfully.\n",
      "Database connection closed.\n",
      "Data inserted successfully.\n",
      "Database connection closed.\n"
     ]
    }
   ],
   "source": [
    "values_circuit = [tuple(row) for row in df_circuit.values]\n",
    "values_races = [tuple(row) for row in df_races.values]\n",
    "values_drivers = [tuple(row) for row in df_drivers.values]\n",
    "values_constructors = [tuple(row) for row in df_constructors.values]\n",
    "values_results = [tuple(row) for row in df_results.values]\n",
    "\n",
    "values = [\n",
    "    values_circuit,\n",
    "    values_races,\n",
    "    values_drivers,\n",
    "    values_constructors,\n",
    "    values_results]\n",
    "\n",
    "for i in range(len(values)):\n",
    "    data_insertion(queries_insertion[i], values[i])"
   ]
  }
 ],
 "metadata": {
  "kernelspec": {
   "display_name": "proyecto5",
   "language": "python",
   "name": "python3"
  },
  "language_info": {
   "codemirror_mode": {
    "name": "ipython",
    "version": 3
   },
   "file_extension": ".py",
   "mimetype": "text/x-python",
   "name": "python",
   "nbconvert_exporter": "python",
   "pygments_lexer": "ipython3",
   "version": "3.12.7"
  }
 },
 "nbformat": 4,
 "nbformat_minor": 2
}
